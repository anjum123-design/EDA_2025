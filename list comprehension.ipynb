{
 "cells": [
  {
   "cell_type": "code",
   "execution_count": 8,
   "id": "60e1ecb9-56ac-45d1-962b-35682aa7c694",
   "metadata": {},
   "outputs": [
    {
     "name": "stdout",
     "output_type": "stream",
     "text": [
      "[10, 11, 12, 13, 14, 15, 16, 17, 18, 19]\n"
     ]
    }
   ],
   "source": [
    "value=[ x  for x in range(10,20)]\n",
    "print(value)"
   ]
  },
  {
   "cell_type": "code",
   "execution_count": 16,
   "id": "5406c799-f4b1-407f-b1b8-ddb892f1f50e",
   "metadata": {},
   "outputs": [
    {
     "name": "stdout",
     "output_type": "stream",
     "text": [
      "[11, 12, 13, 14, 15, 16, 17, 18, 19, 20]\n"
     ]
    }
   ],
   "source": [
    "value=[ x+1  for x in range(10,20)]\n",
    "print(value)"
   ]
  },
  {
   "cell_type": "code",
   "execution_count": 9,
   "id": "ec78cb9a-d734-4a27-94f8-db783c90ada9",
   "metadata": {},
   "outputs": [
    {
     "name": "stdout",
     "output_type": "stream",
     "text": [
      "[10, 12, 14, 16, 18]\n"
     ]
    }
   ],
   "source": [
    "value=[ x  for x in range(10,20,2) if x<=18]\n",
    "print(value)"
   ]
  },
  {
   "cell_type": "code",
   "execution_count": 15,
   "id": "c44cc356-4a41-46f4-9f04-648eed040351",
   "metadata": {},
   "outputs": [
    {
     "name": "stdout",
     "output_type": "stream",
     "text": [
      "[10, 11, 12, 13, 14, 15, 16, 17, 18, 19]\n",
      "**************************************************\n",
      "11\n"
     ]
    }
   ],
   "source": [
    "value=[ x  for x in range(10,20)]\n",
    "print(value)\n",
    "print(\"*\" *50)\n",
    "print(value[1])"
   ]
  },
  {
   "cell_type": "code",
   "execution_count": 21,
   "id": "9018b103-7ddc-4a2a-850d-c91330a7a6f0",
   "metadata": {},
   "outputs": [
    {
     "name": "stdout",
     "output_type": "stream",
     "text": [
      "[2, 4, 6, 8, 10, 12, 14, 16, 18, 20, 22, 24, 26, 28, 30, 32, 34, 36, 38, 40, 42, 44, 46, 48, 50]\n"
     ]
    }
   ],
   "source": [
    "# to check even number range 1-50\n",
    "even=[ x  for x in range(1,51) if x % 2 ==0  ]\n",
    "print(even)\n"
   ]
  },
  {
   "cell_type": "code",
   "execution_count": null,
   "id": "2835ef6c-548e-4a22-8090-cf7f281b22ef",
   "metadata": {},
   "outputs": [],
   "source": [
    "#string stsrt with a and end with y\n",
    "options=[\"any\",\"apple\",\"world\",\"hello\",\"pony\"]\n",
    "print(o\n"
   ]
  }
 ],
 "metadata": {
  "kernelspec": {
   "display_name": "Python 3 (ipykernel)",
   "language": "python",
   "name": "python3"
  },
  "language_info": {
   "codemirror_mode": {
    "name": "ipython",
    "version": 3
   },
   "file_extension": ".py",
   "mimetype": "text/x-python",
   "name": "python",
   "nbconvert_exporter": "python",
   "pygments_lexer": "ipython3",
   "version": "3.12.7"
  }
 },
 "nbformat": 4,
 "nbformat_minor": 5
}
