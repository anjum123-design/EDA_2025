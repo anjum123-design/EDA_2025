{
 "cells": [
  {
   "cell_type": "code",
   "execution_count": null,
   "id": "3b3be83f-6d67-4bf4-b836-68f7ecc5a0c8",
   "metadata": {},
   "outputs": [],
   "source": [
    "import pandas as pd\n",
    "visa_df=pd.read_csv('Visadataset.csv')\n",
    "visa_df\n",
    "visa_df.dtypes\n",
    "# its showing series ie no rows and columns\n",
    "data_types=visa_df.dtypes\n",
    "data_types\n",
    "k=data_types.keys()\n",
    "v=data_types.values\n",
    "k\n",
    "v\n",
    "# create a dataframe with the keys and values\n",
    "pd.DataFrame(zip(k,v), columns=['Col_Name','Data_Type'])\n",
    "data_types_df=pd.DataFrame(zip(k,v), columns=['Col_Name','Data_Type'])\n",
    "data_types_df   \n",
    "# save this dataframe\n",
    "data_types_df.to_csv('data_types_df.csv',index=False)\n",
    "\n",
    "# Task 2 : seperate catagorical and numerical column seperately k=keys v=values\n",
    "for key,value in zip(k,v):\n",
    "    print(f'key : {key}, ---->   value :{value}')\n",
    "    \n",
    "# dictionery  method\n",
    "for key,value in dict(data_types).items():\n",
    "    print()\n",
    "    if value=='object':\n",
    "        print(f'{key}---------->   {value}')\n",
    "    else:\n",
    "        print(f'{key}---------->    {value}')\n",
    "        \n",
    "# using append and adding to list\n",
    "cat_list=[]\n",
    "num_list=[]\n",
    "for key,value in dict(data_types).items():\n",
    "    print()\n",
    "    if value=='object':\n",
    "        # print(f'{key}---------->   {value}')\n",
    "        cat_list.append(key)\n",
    "    else:\n",
    "        # print(f'{key}---------->    {value}')\n",
    "        \n",
    "        num_list.append(key)\n",
    "print(f' Catogprical list :  {cat_list}')\n",
    "print()\n",
    "print(f' Numerical list: {num_list}')\n",
    "\n",
    "\n",
    "# direct method include object then all categorical comes\n",
    "visa_df.select_dtypes(include='object').columns\n",
    "# only numerical will come exlude =object\n",
    "visa_df.select_dtypes(exclude='object').columns\n"
   ]
  }
 ],
 "metadata": {
  "kernelspec": {
   "display_name": "Python 3 (ipykernel)",
   "language": "python",
   "name": "python3"
  },
  "language_info": {
   "codemirror_mode": {
    "name": "ipython",
    "version": 3
   },
   "file_extension": ".py",
   "mimetype": "text/x-python",
   "name": "python",
   "nbconvert_exporter": "python",
   "pygments_lexer": "ipython3",
   "version": "3.12.7"
  }
 },
 "nbformat": 4,
 "nbformat_minor": 5
}
