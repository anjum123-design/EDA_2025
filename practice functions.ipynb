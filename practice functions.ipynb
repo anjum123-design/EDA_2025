{
 "cells": [
  {
   "cell_type": "code",
   "execution_count": 5,
   "id": "571b824b-24e8-45a9-a1db-ed2c9ee4b813",
   "metadata": {},
   "outputs": [
    {
     "name": "stdin",
     "output_type": "stream",
     "text": [
      "Enter the number1: 10\n",
      "Enter the number2: 10\n",
      "Enter the number3: 10\n"
     ]
    },
    {
     "name": "stdout",
     "output_type": "stream",
     "text": [
      "The average of 3 numbers is(10+10+10/3)= 10.0\n"
     ]
    }
   ],
   "source": [
    "#Wap ask the user take three numbers and find the average## print : the average of 10,20 and 30 is :\n",
    "# without arguments\n",
    "def avg1():\n",
    "    num1=eval(input(\"Enter the number1:\"))\n",
    "    num2=eval(input(\"Enter the number2:\"))\n",
    "    num3=eval(input(\"Enter the number3:\"))\n",
    "    average=round((num1+num2+num3)/3,2)\n",
    "    print(f'The average of 3 numbers is({num1}+{num2}+{num3}/3)= {average}')\n",
    "avg1()\n"
   ]
  },
  {
   "cell_type": "code",
   "execution_count": 9,
   "id": "5d174628-ab8d-4649-aa5c-30a207de728f",
   "metadata": {},
   "outputs": [
    {
     "name": "stdout",
     "output_type": "stream",
     "text": [
      "The average of 3 numbers is(10+10+10/3)= 10.0\n"
     ]
    }
   ],
   "source": [
    "# with arguments\n",
    "def avg1(num1,num2,num3):\n",
    "    average=round((num1+num2+num3)/3,2)\n",
    "    print(f'The average of 3 numbers is({num1}+{num2}+{num3}/3)= {average}')\n",
    "avg1(10,10,10)"
   ]
  },
  {
   "cell_type": "code",
   "execution_count": 10,
   "id": "73f99f1a-3d03-4dbd-b6fb-09d9221dfa9f",
   "metadata": {},
   "outputs": [
    {
     "name": "stdout",
     "output_type": "stream",
     "text": [
      "The average of 3 numbers is(10+30+20/3)= 20.0\n"
     ]
    }
   ],
   "source": [
    "# with default arguments\n",
    "def avg1(num1,num2=30,num3=20):\n",
    "    average=round((num1+num2+num3)/3,2)\n",
    "    print(f'The average of 3 numbers is({num1}+{num2}+{num3}/3)= {average}')\n",
    "avg1(10)"
   ]
  },
  {
   "cell_type": "code",
   "execution_count": 21,
   "id": "1cbad625-f249-4571-b039-80d265432e51",
   "metadata": {},
   "outputs": [
    {
     "name": "stdout",
     "output_type": "stream",
     "text": [
      "The average of 3 numbers is(100+200+300/3)= 200.0\n",
      "100\n"
     ]
    }
   ],
   "source": [
    "#global vs local variable\n",
    "num1=100\n",
    "def avg1(num2,num3):\n",
    "    average=round((num1+num2+num3)/3,2)\n",
    "    print(f'The average of 3 numbers is({num1}+{num2}+{num3}/3)= {average}')\n",
    "    print(num1)\n",
    "avg1(200,300)"
   ]
  },
  {
   "cell_type": "code",
   "execution_count": 23,
   "id": "fda7aac4-6b03-4903-ac97-f565f82cc4b9",
   "metadata": {},
   "outputs": [
    {
     "name": "stdout",
     "output_type": "stream",
     "text": [
      " The average of 3 numbers (100+200+300/3)= 200.0\n"
     ]
    }
   ],
   "source": [
    "# return statement\n",
    "num1=100\n",
    "def avg1(num2,num3):\n",
    "    average=round((num1+num2+num3)/3,2)\n",
    "    return average\n",
    "average =avg1(200,300)\n",
    "print(f' The average of 3 numbers ({num1}+{num2}+{num3}/3)= {average}')"
   ]
  },
  {
   "cell_type": "code",
   "execution_count": null,
   "id": "9f794522-5ba3-462e-9668-1ca6dbc5e84e",
   "metadata": {},
   "outputs": [],
   "source": [
    "#wap take the radidus of a circle calculate area of the circle\n",
    "# var: radidus  \n",
    "# var: pi=3.14\n",
    "# formuale: pi*radius*radius\n",
    "# print the answers using f string and format"
   ]
  }
 ],
 "metadata": {
  "kernelspec": {
   "display_name": "Python 3 (ipykernel)",
   "language": "python",
   "name": "python3"
  },
  "language_info": {
   "codemirror_mode": {
    "name": "ipython",
    "version": 3
   },
   "file_extension": ".py",
   "mimetype": "text/x-python",
   "name": "python",
   "nbconvert_exporter": "python",
   "pygments_lexer": "ipython3",
   "version": "3.12.7"
  }
 },
 "nbformat": 4,
 "nbformat_minor": 5
}
