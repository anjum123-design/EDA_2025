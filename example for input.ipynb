{
 "cells": [
  {
   "cell_type": "code",
   "execution_count": null,
   "id": "75cb9898-4cbc-44d0-89dc-325688716a81",
   "metadata": {},
   "outputs": [],
   "source": [
    "name   =input(\"Enter your name:\")\n",
    "city  =  input(\"Enter your city:\")\n",
    "course= input(\"Enter the course enrolled:\")\n",
    "Amount= eval(input(\"Enter the payment amount:\"))\n",
    "degree= input(\"Enter your degree:\")\n",
    "print(f'Name:{name}')\n",
    "print(f'City:{city}')\n",
    "print(f'Course:{name}')\n",
    "print(f'Amount:{Amount} rs')\n",
    "print(f'Degree:{degree}')\n",
    "print(\"hello ss u wish\")"
   ]
  },
  {
   "cell_type": "code",
   "execution_count": null,
   "id": "848f7834-a5f3-4043-86ff-d4102a71b19c",
   "metadata": {},
   "outputs": [],
   "source": [
    "# create story\n",
    "input(\"son:\")\n",
    "input(\"dad:\")\n",
    "input(\"son:\")\n",
    "input(\"dad:\")\n",
    "input(\"son:\")\n",
    "input(\"dad:\")\n",
    "input(\"son:\")\n",
    "input(\"dad:\")\n",
    "telugu=eval(input(\"telugu marks:\"))\n",
    "english=eval(input(\"english marks\"))\n",
    "maths=eval(input(\"maths marks\"))\n",
    "science=eval(input(\"science marks\"))\n",
    "social=eval(input(\"social marks\"))\n",
    "hindi=eval(input(\"hindi marks\"))\n",
    "total=telugu+english+hindi+science+social+maths\n",
    "percentage=round((total/600)*100,2)\n",
    "print(f'dad: your percentage {percentage}')\n",
    "\n"
   ]
  },
  {
   "cell_type": "code",
   "execution_count": null,
   "id": "80756615-3b1e-4bd3-9550-25678d0458de",
   "metadata": {},
   "outputs": [],
   "source": []
  }
 ],
 "metadata": {
  "kernelspec": {
   "display_name": "Python 3 (ipykernel)",
   "language": "python",
   "name": "python3"
  },
  "language_info": {
   "codemirror_mode": {
    "name": "ipython",
    "version": 3
   },
   "file_extension": ".py",
   "mimetype": "text/x-python",
   "name": "python",
   "nbconvert_exporter": "python",
   "pygments_lexer": "ipython3",
   "version": "3.12.7"
  }
 },
 "nbformat": 4,
 "nbformat_minor": 5
}
