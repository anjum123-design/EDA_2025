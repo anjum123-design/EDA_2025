{
 "cells": [
  {
   "cell_type": "raw",
   "id": "ac62a309-caf7-4390-819a-b57d449e47c1",
   "metadata": {},
   "source": [
    "pip install nump\n"
   ]
  },
  {
   "cell_type": "code",
   "execution_count": 21,
   "id": "6005f736-64fe-4ca9-9b9c-01729f8a31c5",
   "metadata": {},
   "outputs": [
    {
     "name": "stdout",
     "output_type": "stream",
     "text": [
      "[10, 20, 30, 40, 50, 60] <class 'list'>\n",
      "Memory space of List object= 104\n"
     ]
    }
   ],
   "source": [
    "import numpy as np\n",
    "import sys\n",
    "lst=[10,20,30,40,50,60]\n",
    "print(lst,type(lst))\n",
    "print(\"Memory space of List object=\",sys.getsizeof(lst))\n",
    "\n"
   ]
  },
  {
   "cell_type": "code",
   "execution_count": 11,
   "id": "f7c53a6a-2a12-45ce-9211-d67273be2cb1",
   "metadata": {},
   "outputs": [
    {
     "name": "stdout",
     "output_type": "stream",
     "text": [
      "[10 20 30 40 50 60 70] <class 'numpy.ndarray'>\n",
      "Memory space of List object= 140\n"
     ]
    }
   ],
   "source": [
    "a=np.array(lst)\n",
    "print(a,type(a))\n",
    "print(\"Memory space of List object=\",sys.getsizeof(a))"
   ]
  },
  {
   "cell_type": "code",
   "execution_count": 14,
   "id": "294047d8-0b21-4de7-b0f0-ecb4b96f24da",
   "metadata": {},
   "outputs": [
    {
     "name": "stdout",
     "output_type": "stream",
     "text": [
      "[16 26 36 46 56 66 76]\n"
     ]
    }
   ],
   "source": [
    "#vector based operarations\n",
    "a=a+2\n",
    "print(a)"
   ]
  },
  {
   "cell_type": "code",
   "execution_count": 15,
   "id": "a9f740da-3ca2-43fd-bf6d-a3a94573722f",
   "metadata": {},
   "outputs": [
    {
     "name": "stdout",
     "output_type": "stream",
     "text": [
      "Dimension of ndarray= 1\n"
     ]
    }
   ],
   "source": [
    "#printing dimension\n",
    "print(\"Dimension of ndarray=\",a.ndim)\n"
   ]
  },
  {
   "cell_type": "code",
   "execution_count": 22,
   "id": "d6534c5e-93b1-4a54-a74f-5494da5618bd",
   "metadata": {},
   "outputs": [
    {
     "ename": "ValueError",
     "evalue": "cannot reshape array of size 7 into shape (3,2)",
     "output_type": "error",
     "traceback": [
      "\u001b[1;31m---------------------------------------------------------------------------\u001b[0m",
      "\u001b[1;31mValueError\u001b[0m                                Traceback (most recent call last)",
      "Cell \u001b[1;32mIn[22], line 1\u001b[0m\n\u001b[1;32m----> 1\u001b[0m a\u001b[38;5;241m.\u001b[39mreshape(\u001b[38;5;241m3\u001b[39m,\u001b[38;5;241m2\u001b[39m)\n",
      "\u001b[1;31mValueError\u001b[0m: cannot reshape array of size 7 into shape (3,2)"
     ]
    }
   ],
   "source": [
    "a.reshape(3,2)"
   ]
  },
  {
   "cell_type": "code",
   "execution_count": 23,
   "id": "4f9eb68f-4c19-4c89-95de-ade1f05b5d59",
   "metadata": {},
   "outputs": [
    {
     "name": "stdout",
     "output_type": "stream",
     "text": [
      "Dimension of ndarray= 1\n"
     ]
    },
    {
     "data": {
      "text/plain": [
       "array([[10, 20],\n",
       "       [30, 40],\n",
       "       [50, 60]])"
      ]
     },
     "execution_count": 23,
     "metadata": {},
     "output_type": "execute_result"
    }
   ],
   "source": [
    "lst=[10,20,30,40,50,60]\n",
    "a=np.array(lst)\n",
    "print(\"Dimension of ndarray=\",a.ndim)\n",
    "print(\"Dimension of ndarray=\",a.ndim)\n",
    "a.reshape(3,2)"
   ]
  },
  {
   "cell_type": "code",
   "execution_count": 26,
   "id": "bbbdd2bb-7e50-4e93-a35a-a4a01413fe85",
   "metadata": {},
   "outputs": [
    {
     "name": "stdout",
     "output_type": "stream",
     "text": [
      "Dimension of ndarray= 1\n"
     ]
    },
    {
     "data": {
      "text/plain": [
       "array([[10, 20, 30],\n",
       "       [40, 50, 60],\n",
       "       [70, 80, 90],\n",
       "       [25, 35, 45]])"
      ]
     },
     "execution_count": 26,
     "metadata": {},
     "output_type": "execute_result"
    }
   ],
   "source": [
    "lst=[10,20,30,40,50,60,70,80,90,25,35,45]\n",
    "a=np.array(lst)\n",
    "print(\"Dimension of ndarray=\",a.ndim)\n",
    "a.reshape(4,3)"
   ]
  },
  {
   "cell_type": "code",
   "execution_count": 25,
   "id": "715e537b-24bf-4a84-919c-4a579296da87",
   "metadata": {},
   "outputs": [
    {
     "data": {
      "text/plain": [
       "array([[10, 20, 30, 40],\n",
       "       [50, 60, 70, 80],\n",
       "       [90, 25, 35, 45]])"
      ]
     },
     "execution_count": 25,
     "metadata": {},
     "output_type": "execute_result"
    }
   ],
   "source": [
    "a.reshape(4,3)"
   ]
  },
  {
   "cell_type": "code",
   "execution_count": 27,
   "id": "3d419cea-a957-481f-aed8-74185a799484",
   "metadata": {},
   "outputs": [
    {
     "data": {
      "text/plain": [
       "2"
      ]
     },
     "execution_count": 27,
     "metadata": {},
     "output_type": "execute_result"
    }
   ],
   "source": [
    "a.reshape(4,3).ndim"
   ]
  },
  {
   "cell_type": "code",
   "execution_count": null,
   "id": "959c3976-32af-47cd-8037-3f44bc69d668",
   "metadata": {},
   "outputs": [],
   "source": [
    "import numpy as np\n",
    "a=10\n",
    "b=np.array(a)\n",
    "print(b)\n",
    "print(b.dtype)\n",
    "print(b.ndim)\n",
    "print(b.shape)\n",
    "print(b.size)\n",
    "print(\"************************\")\n",
    "c=2.5\n",
    "d=np.array(c)\n",
    "print(d)\n",
    "print(d.dtype)\n",
    "print(d.ndim)\n",
    "print(d.shape)\n",
    "print(d.size)\n",
    "print(\"*****************************************\")\n",
    "# range\n",
    "r=range(12)\n",
    "rd=np.array(r)\n",
    "print(rd)\n",
    "print(rd.dtype)\n",
    "print(rd.ndim)\n",
    "print(rd.shape)\n",
    "print(rd.size)\n"
   ]
  },
  {
   "cell_type": "code",
   "execution_count": null,
   "id": "22dcdecf-889a-4536-965e-779c7e7e9213",
   "metadata": {},
   "outputs": [],
   "source": []
  }
 ],
 "metadata": {
  "kernelspec": {
   "display_name": "Python 3 (ipykernel)",
   "language": "python",
   "name": "python3"
  },
  "language_info": {
   "codemirror_mode": {
    "name": "ipython",
    "version": 3
   },
   "file_extension": ".py",
   "mimetype": "text/x-python",
   "name": "python",
   "nbconvert_exporter": "python",
   "pygments_lexer": "ipython3",
   "version": "3.12.7"
  }
 },
 "nbformat": 4,
 "nbformat_minor": 5
}
