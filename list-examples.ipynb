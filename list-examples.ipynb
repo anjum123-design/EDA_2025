{
 "cells": [
  {
   "cell_type": "code",
   "execution_count": 6,
   "id": "6cfad989-149f-46d7-b297-86cf3ffe9802",
   "metadata": {},
   "outputs": [
    {
     "name": "stdin",
     "output_type": "stream",
     "text": [
      "enter the n number of players: 3\n",
      "enter the scores players1: 200\n",
      "enter the scores players2: 300\n",
      "enter the scores players3: 400\n"
     ]
    },
    {
     "name": "stdout",
     "output_type": "stream",
     "text": [
      "Scores [200, 300, 400]\n",
      "Total Score 900\n",
      "Minimum Score 200\n",
      "Maximum Score 400\n"
     ]
    }
   ],
   "source": [
    "# Write a program to read the scores of n players and\n",
    "# store inside list\n",
    "scores=[]\n",
    "players=eval(input(\"enter the n number of players:\"))\n",
    "for i in range(players):\n",
    "   s= eval(input(f'enter the scores players{i+1}:'))\n",
    "   scores.append(s)\n",
    "print(f'Scores {scores}')\n",
    "print(f'Total Score {sum(scores)}')\n",
    "print(f'Minimum Score {min(scores)}')\n",
    "print(f'Maximum Score {max(scores)}')"
   ]
  },
  {
   "cell_type": "code",
   "execution_count": 29,
   "id": "c134d31e-f696-42db-92fa-166dcacd6265",
   "metadata": {},
   "outputs": [
    {
     "name": "stdout",
     "output_type": "stream",
     "text": [
      "[100, 200, 300, 400]\n"
     ]
    }
   ],
   "source": [
    "print(scores)"
   ]
  },
  {
   "cell_type": "code",
   "execution_count": 1,
   "id": "4a3d7842-87c3-408f-8610-efdcb352e56a",
   "metadata": {},
   "outputs": [
    {
     "name": "stdout",
     "output_type": "stream",
     "text": [
      "30\n"
     ]
    }
   ],
   "source": [
    "list1=[10,20]\n",
    "print(sum(list1) )"
   ]
  },
  {
   "cell_type": "code",
   "execution_count": null,
   "id": "c17d135a-4954-438b-8705-a3568b9461fc",
   "metadata": {},
   "outputs": [],
   "source": []
  }
 ],
 "metadata": {
  "kernelspec": {
   "display_name": "Python 3 (ipykernel)",
   "language": "python",
   "name": "python3"
  },
  "language_info": {
   "codemirror_mode": {
    "name": "ipython",
    "version": 3
   },
   "file_extension": ".py",
   "mimetype": "text/x-python",
   "name": "python",
   "nbconvert_exporter": "python",
   "pygments_lexer": "ipython3",
   "version": "3.12.7"
  }
 },
 "nbformat": 4,
 "nbformat_minor": 5
}
