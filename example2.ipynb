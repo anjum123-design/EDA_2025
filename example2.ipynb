{
 "cells": [
  {
   "cell_type": "code",
   "execution_count": 21,
   "id": "2866f2a4-3401-477f-a37c-76c4a5aed379",
   "metadata": {},
   "outputs": [
    {
     "name": "stdout",
     "output_type": "stream",
     "text": [
      "[10, 20, 30, 40, 50, 60] <class 'list'>\n",
      "[10 20 30 40 50 60] <class 'numpy.ndarray'>\n",
      "int32\n",
      "1\n",
      "(6,)\n",
      "6\n",
      "[[10 20]\n",
      " [30 40]\n",
      " [50 60]]\n",
      "(10, 20, 30, 40, 50, 60, 70) <class 'tuple'>\n",
      "[10 20 30 40 50 60 70] <class 'numpy.ndarray'>\n",
      "int32\n",
      "1\n",
      "(7,)\n",
      "7\n",
      "{10: 1.2, 20: 4.5, 30: 6.7} <class 'numpy.ndarray'>\n",
      "object\n",
      "0\n",
      "()\n",
      "1\n"
     ]
    }
   ],
   "source": [
    "import numpy as np\n",
    "l1=[10,20,30,40,50,60]\n",
    "print(l1,type(l1))\n",
    "a=np.array(l1)\n",
    "print(a,type(a))\n",
    "print(a.dtype)\n",
    "print(a.ndim)\n",
    "print(a.shape)\n",
    "print(a.size)\n",
    "z=a.reshape(3,2)\n",
    "print(z)\n",
    "\n",
    "# tuple \n",
    "t=(10,20,30,40,50,60,70)\n",
    "print(t,type(t))\n",
    "b=np.array(t)\n",
    "print(b,type(b))\n",
    "print(b.dtype)\n",
    "print(b.ndim)\n",
    "print(b.shape)\n",
    "print(b.size)\n",
    "# dictionary\n",
    "d1={10:1.2,20:4.5,30:6.7}\n",
    "c=np.array(d1)\n",
    "print(c,type(c))\n",
    "print(c.dtype)\n",
    "print(c.ndim)\n",
    "print(c.shape)\n",
    "print(c.size)\n"
   ]
  },
  {
   "cell_type": "code",
   "execution_count": 28,
   "id": "f9cbd233-2761-419c-90ad-293456274045",
   "metadata": {},
   "outputs": [
    {
     "name": "stdout",
     "output_type": "stream",
     "text": [
      "(((10, 20, 15), (30, 40, 25)), ((50, 60, 18), (70, 80, 35))) <class 'tuple'>\n",
      "[[[10 20 15]\n",
      "  [30 40 25]]\n",
      "\n",
      " [[50 60 18]\n",
      "  [70 80 35]]]\n"
     ]
    }
   ],
   "source": [
    "t1=( ((10,20,15),(30,40,25)),( (50,60,18),(70,80,35) ))\n",
    "print(t1,type(t1))\n",
    "a=np.array(t1)\n",
    "print(a)\n",
    "a.ndim\n",
    "a.shape\n",
    "b=a.reshape(4,3)"
   ]
  },
  {
   "cell_type": "code",
   "execution_count": null,
   "id": "3d9f305f-2602-41e8-99ec-ac0ced472bb3",
   "metadata": {},
   "outputs": [],
   "source": []
  }
 ],
 "metadata": {
  "kernelspec": {
   "display_name": "Python 3 (ipykernel)",
   "language": "python",
   "name": "python3"
  },
  "language_info": {
   "codemirror_mode": {
    "name": "ipython",
    "version": 3
   },
   "file_extension": ".py",
   "mimetype": "text/x-python",
   "name": "python",
   "nbconvert_exporter": "python",
   "pygments_lexer": "ipython3",
   "version": "3.12.7"
  }
 },
 "nbformat": 4,
 "nbformat_minor": 5
}
