{
 "cells": [
  {
   "cell_type": "code",
   "execution_count": 4,
   "id": "a2577974-9f18-473b-b75e-adbd0096d8f2",
   "metadata": {},
   "outputs": [
    {
     "data": {
      "text/plain": [
       "{'Germany': 'Berlin', 'Canada': 'Ottawa', 'Italy': 'Rome'}"
      ]
     },
     "execution_count": 4,
     "metadata": {},
     "output_type": "execute_result"
    }
   ],
   "source": [
    "dict1 = {\n",
    "  \"Germany\": \"Berlin\", \n",
    "  \"Canada\": \"Ottawa\", \n",
    "}\n",
    "dict1['Germany']\n",
    "dict1['Italy']='Rome'\n",
    "dict1"
   ]
  },
  {
   "cell_type": "code",
   "execution_count": null,
   "id": "1f7233d2-2e1e-4088-9509-229894e43577",
   "metadata": {},
   "outputs": [],
   "source": [
    "Summary\n",
    "min(dictionary): Smallest key.\n",
    "\n",
    "min(dictionary.values()): Smallest value.\n",
    "\n",
    "min(dictionary, key=dictionary.get): Key with the smallest value."
   ]
  },
  {
   "cell_type": "code",
   "execution_count": 7,
   "id": "0509f18c-6711-4c79-b0dc-ed37406e1c3a",
   "metadata": {},
   "outputs": [
    {
     "name": "stdout",
     "output_type": "stream",
     "text": [
      "1\n"
     ]
    }
   ],
   "source": [
    "data = {3: \"apple\", 1: \"banana\", 4: \"cherry\"}\n",
    "print(min(data)) # minimum is key here which is 1"
   ]
  },
  {
   "cell_type": "code",
   "execution_count": 6,
   "id": "09e1cf48-6a37-48c1-ac75-9287ad9c02fe",
   "metadata": {},
   "outputs": [
    {
     "data": {
      "text/plain": [
       "'apple'"
      ]
     },
     "execution_count": 6,
     "metadata": {},
     "output_type": "execute_result"
    }
   ],
   "source": [
    "min(data.values()) # alphabetic order so apple"
   ]
  },
  {
   "cell_type": "code",
   "execution_count": 13,
   "id": "e41dc2b7-254a-495f-a838-4d84c951f6ce",
   "metadata": {},
   "outputs": [
    {
     "data": {
      "text/plain": [
       "'apple'"
      ]
     },
     "execution_count": 13,
     "metadata": {},
     "output_type": "execute_result"
    }
   ],
   "source": [
    "data = {\"orange\": 2, \"apple\": 5, \"banana\": 3}\n",
    "min(data)"
   ]
  },
  {
   "cell_type": "code",
   "execution_count": null,
   "id": "f442eb83-a006-496f-907f-6937c1a1538c",
   "metadata": {},
   "outputs": [],
   "source": [
    "data = {3: 50, 1: 20, 4: 30}\n",
    "\n",
    "min_key = min(data, key=data.get)  # Finds the key with the smallest value\n",
    "print(min_key)  # Output: 1"
   ]
  },
  {
   "cell_type": "code",
   "execution_count": null,
   "id": "e3a83d8e-b234-4ff4-94df-1139954cf40d",
   "metadata": {},
   "outputs": [],
   "source": []
  },
  {
   "cell_type": "code",
   "execution_count": 8,
   "id": "db50c90c-9273-4ef9-b72c-a5d589959690",
   "metadata": {},
   "outputs": [
    {
     "name": "stdout",
     "output_type": "stream",
     "text": [
      "4\n"
     ]
    }
   ],
   "source": [
    "print(max(data)) "
   ]
  },
  {
   "cell_type": "code",
   "execution_count": 9,
   "id": "7b3f1854-fd6c-447a-9d38-f4bb2e2a89fc",
   "metadata": {},
   "outputs": [
    {
     "name": "stdout",
     "output_type": "stream",
     "text": [
      "cherry\n"
     ]
    }
   ],
   "source": [
    "print(max(data.values()))"
   ]
  },
  {
   "cell_type": "code",
   "execution_count": 10,
   "id": "44653b88-46cd-4b86-999f-23032b2b238f",
   "metadata": {},
   "outputs": [
    {
     "data": {
      "text/plain": [
       "3"
      ]
     },
     "execution_count": 10,
     "metadata": {},
     "output_type": "execute_result"
    }
   ],
   "source": [
    "len(data)"
   ]
  },
  {
   "cell_type": "code",
   "execution_count": 11,
   "id": "d11784f2-8165-4a84-b84e-d73d6b8ed481",
   "metadata": {},
   "outputs": [
    {
     "data": {
      "text/plain": [
       "8"
      ]
     },
     "execution_count": 11,
     "metadata": {},
     "output_type": "execute_result"
    }
   ],
   "source": [
    "sum(data) # 3+1+4=8 sum of keys"
   ]
  },
  {
   "cell_type": "code",
   "execution_count": 12,
   "id": "65053386-5c57-4902-8fc2-fd37c8191298",
   "metadata": {},
   "outputs": [
    {
     "data": {
      "text/plain": [
       "60"
      ]
     },
     "execution_count": 12,
     "metadata": {},
     "output_type": "execute_result"
    }
   ],
   "source": [
    "num = {1: 10, 2: 20, 3: 30}\n",
    "sum(num.values())"
   ]
  },
  {
   "cell_type": "code",
   "execution_count": 14,
   "id": "2ebe347d-0458-4970-9dd0-922d7d0b11a0",
   "metadata": {},
   "outputs": [
    {
     "data": {
      "text/plain": [
       "[1, 3, 4]"
      ]
     },
     "execution_count": 14,
     "metadata": {},
     "output_type": "execute_result"
    }
   ],
   "source": [
    "# sorted the keys\n",
    "data = {3: \"apple\", 1: \"banana\", 4: \"cherry\"}\n",
    "sorted(data)"
   ]
  },
  {
   "cell_type": "code",
   "execution_count": 1,
   "id": "b1d11789-1523-4689-ac2a-9ca57c5418ee",
   "metadata": {},
   "outputs": [
    {
     "name": "stdout",
     "output_type": "stream",
     "text": [
      "{1: 'banana', 3: 'apple', 4: 'cherry'}\n"
     ]
    }
   ],
   "source": [
    "# to sort dictionery\n",
    "data = {3: \"apple\", 1: \"banana\", 4: \"cherry\"}\n",
    "\n",
    "sorted_dict = {}  # Create an empty dictionary\n",
    "\n",
    "# Iterate through sorted keys\n",
    "for k in sorted(data):  \n",
    "    sorted_dict[k] = data[k]  # Add key-value pair to the new dictionary\n",
    "\n",
    "print(sorted_dict)\n",
    "# Output: {1: 'banana', 3: 'apple', 4: 'cherry'}"
   ]
  },
  {
   "cell_type": "code",
   "execution_count": 2,
   "id": "486ac8f7-10c5-4d7d-81b2-5c953dd5bc7a",
   "metadata": {},
   "outputs": [
    {
     "data": {
      "text/plain": [
       "<dict_reversekeyiterator at 0x22230637380>"
      ]
     },
     "execution_count": 2,
     "metadata": {},
     "output_type": "execute_result"
    }
   ],
   "source": [
    "data = {3: \"apple\", 1: \"banana\", 4: \"cherry\"}\n",
    "reversed(data)"
   ]
  },
  {
   "cell_type": "code",
   "execution_count": 3,
   "id": "de1b1ae8-47a6-487a-8b03-4729c77672d4",
   "metadata": {},
   "outputs": [
    {
     "data": {
      "text/plain": [
       "[4, 1, 3]"
      ]
     },
     "execution_count": 3,
     "metadata": {},
     "output_type": "execute_result"
    }
   ],
   "source": [
    "list(reversed(data))"
   ]
  },
  {
   "cell_type": "code",
   "execution_count": null,
   "id": "2407f889-a048-409a-a592-37d62bce850c",
   "metadata": {},
   "outputs": [],
   "source": [
    "reversed_dict = {k: data[k] for k in reversed(data)}\n",
    "print(reversed_dict)\n",
    "# Output: {4: 'cherry', 1: 'banana', 3: 'apple'}"
   ]
  }
 ],
 "metadata": {
  "kernelspec": {
   "display_name": "Python 3 (ipykernel)",
   "language": "python",
   "name": "python3"
  },
  "language_info": {
   "codemirror_mode": {
    "name": "ipython",
    "version": 3
   },
   "file_extension": ".py",
   "mimetype": "text/x-python",
   "name": "python",
   "nbconvert_exporter": "python",
   "pygments_lexer": "ipython3",
   "version": "3.12.7"
  }
 },
 "nbformat": 4,
 "nbformat_minor": 5
}
